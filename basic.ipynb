{
 "cells": [
  {
   "cell_type": "markdown",
   "metadata": {},
   "source": [
    "# Friday\n",
    "Prototype 3, make the code a little more real"
   ]
  },
  {
   "cell_type": "code",
   "execution_count": 48,
   "metadata": {},
   "outputs": [],
   "source": [
    "import torch\n",
    "from torch.optim import AdamW\n",
    "\n",
    "\n",
    "from datasets import load_dataset\n",
    "\n",
    "from friday.model import model, aux\n",
    "import friday.dataset as fd\n",
    "import friday.dataset.text as t\n",
    "from datasets import load_dataset\n",
    "from torch.utils.data import DataLoader, Dataset\n",
    "from torch.utils.data.sampler import SubsetRandomSampler\n",
    "\n",
    "from hflayers.auxiliary.data import BitPatternSet\n",
    "\n",
    "torch.set_printoptions(profile=\"full\")\n",
    "\n",
    "device = torch.device('cpu')"
   ]
  },
  {
   "cell_type": "markdown",
   "metadata": {},
   "source": [
    "## Load the test dataset\n",
    "Load the dataset, covert it to a FridayDataset, and create the DataLoader"
   ]
  },
  {
   "cell_type": "code",
   "execution_count": 39,
   "metadata": {},
   "outputs": [],
   "source": [
    "bit_pattern_set = BitPatternSet(\n",
    "    num_bags=2048,\n",
    "    num_instances=16,\n",
    "    num_signals=8,\n",
    "    num_signals_per_bag=1,\n",
    "    num_bits=8)"
   ]
  },
  {
   "cell_type": "code",
   "execution_count": 52,
   "metadata": {},
   "outputs": [],
   "source": [
    "# Create data loader of training set.\n",
    "sampler_train = SubsetRandomSampler(list(range(256, 2048 - 256)))\n",
    "data_loader_train = DataLoader(dataset=bit_pattern_set, batch_size=1, sampler=sampler_train)\n",
    "\n",
    "# Create data loader of validation set.\n",
    "sampler_eval = SubsetRandomSampler(list(range(256)) + list(range(2048 - 256, 2048)))\n",
    "data_loader_eval = DataLoader(dataset=bit_pattern_set, batch_size=1, sampler=sampler_eval)"
   ]
  },
  {
   "cell_type": "markdown",
   "metadata": {},
   "source": [
    "DATA IS A 3D TENSOR!!!!!!!!!!!!!!!!!\n",
    "Target is 1d"
   ]
  },
  {
   "cell_type": "code",
   "execution_count": 56,
   "metadata": {},
   "outputs": [
    {
     "name": "stdout",
     "output_type": "stream",
     "text": [
      "512\n",
      "tensor([1.])\n",
      "tensor([[[0., 1., 0., 1., 0., 0., 0., 1.],\n",
      "         [1., 0., 0., 1., 1., 1., 0., 0.],\n",
      "         [0., 1., 1., 0., 1., 0., 0., 1.],\n",
      "         [1., 1., 0., 1., 0., 0., 0., 0.],\n",
      "         [0., 0., 1., 1., 1., 0., 0., 1.],\n",
      "         [0., 0., 1., 1., 1., 0., 1., 0.],\n",
      "         [0., 0., 1., 1., 1., 1., 1., 1.],\n",
      "         [0., 1., 1., 0., 0., 1., 1., 1.],\n",
      "         [0., 1., 0., 0., 1., 0., 1., 1.],\n",
      "         [1., 1., 1., 0., 0., 1., 0., 0.],\n",
      "         [0., 0., 1., 0., 0., 1., 1., 0.],\n",
      "         [1., 1., 0., 0., 0., 1., 0., 0.],\n",
      "         [1., 1., 1., 0., 0., 0., 0., 0.],\n",
      "         [1., 1., 1., 0., 0., 0., 1., 1.],\n",
      "         [0., 1., 1., 1., 1., 1., 0., 1.],\n",
      "         [1., 1., 0., 0., 1., 0., 0., 0.]]])\n"
     ]
    }
   ],
   "source": [
    "print(len(data_loader_eval))\n",
    "for i in data_loader_eval:\n",
    "    print((i['target']))\n",
    "    print(i['data'])\n",
    "    break"
   ]
  },
  {
   "cell_type": "code",
   "execution_count": 57,
   "metadata": {},
   "outputs": [
    {
     "data": {
      "text/plain": [
       "8"
      ]
     },
     "execution_count": 57,
     "metadata": {},
     "output_type": "execute_result"
    }
   ],
   "source": [
    "bit_pattern_set.num_bits"
   ]
  },
  {
   "cell_type": "markdown",
   "metadata": {},
   "source": [
    "Initialize the friday model"
   ]
  },
  {
   "cell_type": "code",
   "execution_count": 58,
   "metadata": {},
   "outputs": [],
   "source": [
    "network = model.Friday(input_size = bit_pattern_set.num_bits, num_instances = bit_pattern_set.num_instances)\n",
    "optimiser = AdamW(params=network.parameters(), lr=1e-3)"
   ]
  },
  {
   "cell_type": "code",
   "execution_count": 59,
   "metadata": {},
   "outputs": [
    {
     "name": "stdout",
     "output_type": "stream",
     "text": [
      "---------------------------------\n",
      "epoch: 0 of 500 \n",
      "accuracy: 0.533203125 \n",
      "loss: 0.7552646516996901\n",
      "---------------------------------\n",
      "epoch: 5 of 500 \n",
      "accuracy: 0.625 \n",
      "loss: 1.032597756828693\n",
      "---------------------------------\n",
      "epoch: 10 of 500 \n",
      "accuracy: 0.7265625 \n",
      "loss: 1.001233846747306\n",
      "---------------------------------\n",
      "epoch: 15 of 500 \n",
      "accuracy: 0.728515625 \n",
      "loss: 1.1295789257777482\n",
      "---------------------------------\n",
      "epoch: 20 of 500 \n",
      "accuracy: 0.755859375 \n",
      "loss: 1.221262472546341\n",
      "---------------------------------\n",
      "epoch: 25 of 500 \n",
      "accuracy: 0.783203125 \n",
      "loss: 1.225571141973412\n",
      "---------------------------------\n",
      "epoch: 30 of 500 \n",
      "accuracy: 0.79296875 \n",
      "loss: 1.2003994930486\n",
      "---------------------------------\n",
      "epoch: 35 of 500 \n",
      "accuracy: 0.75 \n",
      "loss: 1.9782333068785953\n",
      "---------------------------------\n",
      "epoch: 40 of 500 \n",
      "accuracy: 0.759765625 \n",
      "loss: 1.8061480609790577\n",
      "---------------------------------\n",
      "epoch: 45 of 500 \n",
      "accuracy: 0.77734375 \n",
      "loss: 1.4841189951050187\n",
      "---------------------------------\n",
      "epoch: 50 of 500 \n",
      "accuracy: 0.794921875 \n",
      "loss: 1.268479954710932\n",
      "---------------------------------\n",
      "epoch: 55 of 500 \n",
      "accuracy: 0.728515625 \n",
      "loss: 2.1049376286699517\n",
      "---------------------------------\n",
      "epoch: 60 of 500 \n",
      "accuracy: 0.779296875 \n",
      "loss: 1.6052271802996978\n",
      "---------------------------------\n",
      "epoch: 65 of 500 \n",
      "accuracy: 0.75390625 \n",
      "loss: 1.6415241979783748\n",
      "---------------------------------\n",
      "epoch: 70 of 500 \n",
      "accuracy: 0.755859375 \n",
      "loss: 1.6587281831651601\n",
      "---------------------------------\n",
      "epoch: 75 of 500 \n",
      "accuracy: 0.767578125 \n",
      "loss: 1.5810249843830442\n",
      "---------------------------------\n",
      "epoch: 80 of 500 \n",
      "accuracy: 0.740234375 \n",
      "loss: 1.6957934193287958\n",
      "---------------------------------\n",
      "epoch: 85 of 500 \n",
      "accuracy: 0.759765625 \n",
      "loss: 1.6520347432058768\n",
      "---------------------------------\n",
      "epoch: 90 of 500 \n",
      "accuracy: 0.771484375 \n",
      "loss: 1.6219913929655148\n",
      "---------------------------------\n",
      "epoch: 95 of 500 \n",
      "accuracy: 0.7890625 \n",
      "loss: 1.7058026096799799\n",
      "---------------------------------\n",
      "epoch: 100 of 500 \n",
      "accuracy: 0.779296875 \n",
      "loss: 1.8107416285944207\n",
      "---------------------------------\n",
      "epoch: 105 of 500 \n",
      "accuracy: 0.763671875 \n",
      "loss: 1.8427603510946362\n",
      "---------------------------------\n",
      "epoch: 110 of 500 \n",
      "accuracy: 0.783203125 \n",
      "loss: 1.9037930023616987\n",
      "---------------------------------\n",
      "epoch: 115 of 500 \n",
      "accuracy: 0.775390625 \n",
      "loss: 1.9920309763517752\n",
      "---------------------------------\n",
      "epoch: 120 of 500 \n",
      "accuracy: 0.76171875 \n",
      "loss: 2.005547692577992\n",
      "---------------------------------\n",
      "epoch: 125 of 500 \n",
      "accuracy: 0.7578125 \n",
      "loss: 1.9904137232125858\n",
      "---------------------------------\n",
      "epoch: 130 of 500 \n",
      "accuracy: 0.744140625 \n",
      "loss: 2.2954455154629447\n",
      "---------------------------------\n",
      "epoch: 135 of 500 \n",
      "accuracy: 0.775390625 \n",
      "loss: 2.0257879260007785\n",
      "---------------------------------\n",
      "epoch: 140 of 500 \n",
      "accuracy: 0.7578125 \n",
      "loss: 2.2018549137298242\n",
      "---------------------------------\n",
      "epoch: 145 of 500 \n",
      "accuracy: 0.771484375 \n",
      "loss: 2.2453456626020163\n",
      "---------------------------------\n",
      "epoch: 150 of 500 \n",
      "accuracy: 0.75 \n",
      "loss: 2.595833138984495\n"
     ]
    }
   ],
   "source": [
    "losses, accuracies = aux.operate(\n",
    "    network=network,\n",
    "    optimiser=optimiser,\n",
    "    data_loader_train=data_loader_train,\n",
    "    data_loader_eval=data_loader_eval,\n",
    "    num_epochs=500,\n",
    "    device=device)"
   ]
  }
 ],
 "metadata": {
  "interpreter": {
   "hash": "31f2aee4e71d21fbe5cf8b01ff0e069b9275f58929596ceb00d14d90e3e16cd6"
  },
  "kernelspec": {
   "display_name": "Python 3.9.9 64-bit",
   "language": "python",
   "name": "python3"
  },
  "language_info": {
   "codemirror_mode": {
    "name": "ipython",
    "version": 3
   },
   "file_extension": ".py",
   "mimetype": "text/x-python",
   "name": "python",
   "nbconvert_exporter": "python",
   "pygments_lexer": "ipython3",
   "version": "3.9.9"
  },
  "orig_nbformat": 4
 },
 "nbformat": 4,
 "nbformat_minor": 2
}
