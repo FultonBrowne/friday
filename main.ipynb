{
 "cells": [
  {
   "cell_type": "markdown",
   "metadata": {},
   "source": [
    "# Friday\n",
    "Prototype 3, make the code a little more real"
   ]
  },
  {
   "cell_type": "code",
   "execution_count": 1,
   "metadata": {},
   "outputs": [],
   "source": [
    "import torch\n",
    "from torch.optim import AdamW\n",
    "\n",
    "\n",
    "from datasets import load_dataset\n",
    "\n",
    "from friday.model import model, aux\n",
    "import friday.dataset as fd\n",
    "from datasets import load_dataset\n",
    "from torch.utils.data import DataLoader, Dataset\n",
    "\n",
    "device = torch.device('cpu')"
   ]
  },
  {
   "cell_type": "markdown",
   "metadata": {},
   "source": [
    "## Load the test dataset\n",
    "Load the dataset, covert it to a FridayDataset, and create the DataLoader"
   ]
  },
  {
   "cell_type": "code",
   "execution_count": 2,
   "metadata": {},
   "outputs": [
    {
     "name": "stderr",
     "output_type": "stream",
     "text": [
      "No config specified, defaulting to: wiki_hop/original\n",
      "Reusing dataset wiki_hop (/home/fulton/.cache/huggingface/datasets/wiki_hop/original/1.0.0/eb7c77aeecd79f7ef05ad3d29d48b68998c2b51496a05fe4767fcd01785d8a16)\n",
      "100%|██████████| 2/2 [00:00<00:00, 519.51it/s]\n"
     ]
    }
   ],
   "source": [
    "dataset = load_dataset(\"wiki_hop\")"
   ]
  },
  {
   "cell_type": "code",
   "execution_count": 3,
   "metadata": {},
   "outputs": [],
   "source": [
    "tdataset = dataset['train']\n",
    "vdataset = dataset['validation']"
   ]
  },
  {
   "cell_type": "code",
   "execution_count": 4,
   "metadata": {},
   "outputs": [],
   "source": [
    "labels = ['question', 'answer']\n",
    "ftdatset = fd.FridayDataset.from_hf(input=tdataset, labels=labels)\n",
    "vtdatset = fd.FridayDataset.from_hf(input=vdataset, labels=labels)"
   ]
  },
  {
   "cell_type": "code",
   "execution_count": 5,
   "metadata": {},
   "outputs": [],
   "source": [
    "tdata_loader = DataLoader(dataset=ftdatset, batch_size=32)\n",
    "vdata_loader = DataLoader(dataset=vtdatset, batch_size=32)"
   ]
  },
  {
   "cell_type": "markdown",
   "metadata": {},
   "source": [
    "Initialize the friday model"
   ]
  },
  {
   "cell_type": "code",
   "execution_count": 6,
   "metadata": {},
   "outputs": [],
   "source": [
    "network = model.Friday(input_size = 8, num_instances = len(dataset))\n",
    "optimiser = AdamW(params=network.parameters(), lr=1e-3)"
   ]
  },
  {
   "cell_type": "code",
   "execution_count": 7,
   "metadata": {},
   "outputs": [
    {
     "ename": "AssertionError",
     "evalue": "either one tensor to be used as \"stored pattern\", \"state pattern\" and \"pattern_projection\" must be provided, or three separate ones.",
     "output_type": "error",
     "traceback": [
      "\u001b[0;31m---------------------------------------------------------------------------\u001b[0m",
      "\u001b[0;31mAssertionError\u001b[0m                            Traceback (most recent call last)",
      "\u001b[1;32m/home/fulton/code/friday/main.ipynb Cell 10'\u001b[0m in \u001b[0;36m<cell line: 1>\u001b[0;34m()\u001b[0m\n\u001b[0;32m----> <a href='vscode-notebook-cell:/home/fulton/code/friday/main.ipynb#ch0000010?line=0'>1</a>\u001b[0m losses, accuracies \u001b[39m=\u001b[39m aux\u001b[39m.\u001b[39moperate(\n\u001b[1;32m      <a href='vscode-notebook-cell:/home/fulton/code/friday/main.ipynb#ch0000010?line=1'>2</a>\u001b[0m     network\u001b[39m=\u001b[39mnetwork,\n\u001b[1;32m      <a href='vscode-notebook-cell:/home/fulton/code/friday/main.ipynb#ch0000010?line=2'>3</a>\u001b[0m     optimiser\u001b[39m=\u001b[39moptimiser,\n\u001b[1;32m      <a href='vscode-notebook-cell:/home/fulton/code/friday/main.ipynb#ch0000010?line=3'>4</a>\u001b[0m     data_loader_train\u001b[39m=\u001b[39mtdata_loader,\n\u001b[1;32m      <a href='vscode-notebook-cell:/home/fulton/code/friday/main.ipynb#ch0000010?line=4'>5</a>\u001b[0m     data_loader_eval\u001b[39m=\u001b[39mvdata_loader,\n\u001b[1;32m      <a href='vscode-notebook-cell:/home/fulton/code/friday/main.ipynb#ch0000010?line=5'>6</a>\u001b[0m     num_epochs\u001b[39m=\u001b[39m\u001b[39m500\u001b[39m,\n\u001b[1;32m      <a href='vscode-notebook-cell:/home/fulton/code/friday/main.ipynb#ch0000010?line=6'>7</a>\u001b[0m     device\u001b[39m=\u001b[39mdevice)\n",
      "File \u001b[0;32m~/code/friday/friday/model/aux.py:81\u001b[0m, in \u001b[0;36moperate\u001b[0;34m(network, optimiser, data_loader_train, data_loader_eval, device, num_epochs)\u001b[0m\n\u001b[1;32m     <a href='file:///~/code/friday/friday/model/aux.py?line=76'>77</a>\u001b[0m losses, accuracies \u001b[39m=\u001b[39m {\u001b[39mr\u001b[39m\u001b[39m'\u001b[39m\u001b[39mtrain\u001b[39m\u001b[39m'\u001b[39m: [], \u001b[39mr\u001b[39m\u001b[39m'\u001b[39m\u001b[39meval\u001b[39m\u001b[39m'\u001b[39m: []}, {\u001b[39mr\u001b[39m\u001b[39m'\u001b[39m\u001b[39mtrain\u001b[39m\u001b[39m'\u001b[39m: [], \u001b[39mr\u001b[39m\u001b[39m'\u001b[39m\u001b[39meval\u001b[39m\u001b[39m'\u001b[39m: []}\n\u001b[1;32m     <a href='file:///~/code/friday/friday/model/aux.py?line=77'>78</a>\u001b[0m \u001b[39mfor\u001b[39;00m epoch \u001b[39min\u001b[39;00m \u001b[39mrange\u001b[39m(num_epochs):\n\u001b[1;32m     <a href='file:///~/code/friday/friday/model/aux.py?line=78'>79</a>\u001b[0m     \n\u001b[1;32m     <a href='file:///~/code/friday/friday/model/aux.py?line=79'>80</a>\u001b[0m     \u001b[39m# Train network.\u001b[39;00m\n\u001b[0;32m---> <a href='file:///~/code/friday/friday/model/aux.py?line=80'>81</a>\u001b[0m     performance \u001b[39m=\u001b[39m train_epoch(network, optimiser, data_loader_train, device)\n\u001b[1;32m     <a href='file:///~/code/friday/friday/model/aux.py?line=81'>82</a>\u001b[0m     losses[\u001b[39mr\u001b[39m\u001b[39m'\u001b[39m\u001b[39mtrain\u001b[39m\u001b[39m'\u001b[39m]\u001b[39m.\u001b[39mappend(performance[\u001b[39m0\u001b[39m])\n\u001b[1;32m     <a href='file:///~/code/friday/friday/model/aux.py?line=82'>83</a>\u001b[0m     accuracies[\u001b[39mr\u001b[39m\u001b[39m'\u001b[39m\u001b[39mtrain\u001b[39m\u001b[39m'\u001b[39m]\u001b[39m.\u001b[39mappend(performance[\u001b[39m1\u001b[39m])\n",
      "File \u001b[0;32m~/code/friday/friday/model/aux.py:26\u001b[0m, in \u001b[0;36mtrain_epoch\u001b[0;34m(network, optimiser, data_loader, device)\u001b[0m\n\u001b[1;32m     <a href='file:///~/code/friday/friday/model/aux.py?line=21'>22</a>\u001b[0m         data, target \u001b[39m=\u001b[39m sample_data[\u001b[39mr\u001b[39m\u001b[39m'\u001b[39m\u001b[39mdata\u001b[39m\u001b[39m'\u001b[39m], sample_data[\u001b[39mr\u001b[39m\u001b[39m'\u001b[39m\u001b[39mtarget\u001b[39m\u001b[39m'\u001b[39m]\n\u001b[1;32m     <a href='file:///~/code/friday/friday/model/aux.py?line=22'>23</a>\u001b[0m \u001b[39m#        data, target = data.to(device=device), target.to(device=device)\u001b[39;00m\n\u001b[1;32m     <a href='file:///~/code/friday/friday/model/aux.py?line=23'>24</a>\u001b[0m \n\u001b[1;32m     <a href='file:///~/code/friday/friday/model/aux.py?line=24'>25</a>\u001b[0m         \u001b[39m# Process data by Hopfield-based network.\u001b[39;00m\n\u001b[0;32m---> <a href='file:///~/code/friday/friday/model/aux.py?line=25'>26</a>\u001b[0m         model_output \u001b[39m=\u001b[39m network\u001b[39m.\u001b[39;49mforward(\u001b[39minput\u001b[39;49m\u001b[39m=\u001b[39;49mdata)\n\u001b[1;32m     <a href='file:///~/code/friday/friday/model/aux.py?line=27'>28</a>\u001b[0m         \u001b[39m# Update network parameters.\u001b[39;00m\n\u001b[1;32m     <a href='file:///~/code/friday/friday/model/aux.py?line=28'>29</a>\u001b[0m         optimiser\u001b[39m.\u001b[39mzero_grad()\n",
      "File \u001b[0;32m~/code/friday/friday/model/model.py:19\u001b[0m, in \u001b[0;36mFriday.forward\u001b[0;34m(self, input)\u001b[0m\n\u001b[1;32m     <a href='file:///~/code/friday/friday/model/model.py?line=16'>17</a>\u001b[0m \u001b[39mdef\u001b[39;00m \u001b[39mforward\u001b[39m(\u001b[39mself\u001b[39m, \u001b[39minput\u001b[39m):\n\u001b[1;32m     <a href='file:///~/code/friday/friday/model/model.py?line=17'>18</a>\u001b[0m     x \u001b[39m=\u001b[39m \u001b[39minput\u001b[39m\n\u001b[0;32m---> <a href='file:///~/code/friday/friday/model/model.py?line=18'>19</a>\u001b[0m     x \u001b[39m=\u001b[39m \u001b[39mself\u001b[39;49m\u001b[39m.\u001b[39;49mhopfield(x)\n\u001b[1;32m     <a href='file:///~/code/friday/friday/model/model.py?line=19'>20</a>\u001b[0m     x \u001b[39m=\u001b[39m \u001b[39mself\u001b[39m\u001b[39m.\u001b[39mflatten(x)\n\u001b[1;32m     <a href='file:///~/code/friday/friday/model/model.py?line=20'>21</a>\u001b[0m     x \u001b[39m=\u001b[39m \u001b[39mself\u001b[39m\u001b[39m.\u001b[39moutput_projection(x)\n",
      "File \u001b[0;32m~/.local/lib/python3.9/site-packages/torch/nn/modules/module.py:1110\u001b[0m, in \u001b[0;36mModule._call_impl\u001b[0;34m(self, *input, **kwargs)\u001b[0m\n\u001b[1;32m   <a href='file:///~/.local/lib/python3.9/site-packages/torch/nn/modules/module.py?line=1105'>1106</a>\u001b[0m \u001b[39m# If we don't have any hooks, we want to skip the rest of the logic in\u001b[39;00m\n\u001b[1;32m   <a href='file:///~/.local/lib/python3.9/site-packages/torch/nn/modules/module.py?line=1106'>1107</a>\u001b[0m \u001b[39m# this function, and just call forward.\u001b[39;00m\n\u001b[1;32m   <a href='file:///~/.local/lib/python3.9/site-packages/torch/nn/modules/module.py?line=1107'>1108</a>\u001b[0m \u001b[39mif\u001b[39;00m \u001b[39mnot\u001b[39;00m (\u001b[39mself\u001b[39m\u001b[39m.\u001b[39m_backward_hooks \u001b[39mor\u001b[39;00m \u001b[39mself\u001b[39m\u001b[39m.\u001b[39m_forward_hooks \u001b[39mor\u001b[39;00m \u001b[39mself\u001b[39m\u001b[39m.\u001b[39m_forward_pre_hooks \u001b[39mor\u001b[39;00m _global_backward_hooks\n\u001b[1;32m   <a href='file:///~/.local/lib/python3.9/site-packages/torch/nn/modules/module.py?line=1108'>1109</a>\u001b[0m         \u001b[39mor\u001b[39;00m _global_forward_hooks \u001b[39mor\u001b[39;00m _global_forward_pre_hooks):\n\u001b[0;32m-> <a href='file:///~/.local/lib/python3.9/site-packages/torch/nn/modules/module.py?line=1109'>1110</a>\u001b[0m     \u001b[39mreturn\u001b[39;00m forward_call(\u001b[39m*\u001b[39;49m\u001b[39minput\u001b[39;49m, \u001b[39m*\u001b[39;49m\u001b[39m*\u001b[39;49mkwargs)\n\u001b[1;32m   <a href='file:///~/.local/lib/python3.9/site-packages/torch/nn/modules/module.py?line=1110'>1111</a>\u001b[0m \u001b[39m# Do not call functions when jit is used\u001b[39;00m\n\u001b[1;32m   <a href='file:///~/.local/lib/python3.9/site-packages/torch/nn/modules/module.py?line=1111'>1112</a>\u001b[0m full_backward_hooks, non_full_backward_hooks \u001b[39m=\u001b[39m [], []\n",
      "File \u001b[0;32m~/.local/lib/python3.9/site-packages/hflayers/__init__.py:232\u001b[0m, in \u001b[0;36mHopfield.forward\u001b[0;34m(self, input, stored_pattern_padding_mask, association_mask)\u001b[0m\n\u001b[1;32m    <a href='file:///~/.local/lib/python3.9/site-packages/hflayers/__init__.py?line=220'>221</a>\u001b[0m \u001b[39mdef\u001b[39;00m \u001b[39mforward\u001b[39m(\u001b[39mself\u001b[39m, \u001b[39minput\u001b[39m: Union[Tensor, Tuple[Tensor, Tensor, Tensor]],\n\u001b[1;32m    <a href='file:///~/.local/lib/python3.9/site-packages/hflayers/__init__.py?line=221'>222</a>\u001b[0m             stored_pattern_padding_mask: Optional[Tensor] \u001b[39m=\u001b[39m \u001b[39mNone\u001b[39;00m,\n\u001b[1;32m    <a href='file:///~/.local/lib/python3.9/site-packages/hflayers/__init__.py?line=222'>223</a>\u001b[0m             association_mask: Optional[Tensor] \u001b[39m=\u001b[39m \u001b[39mNone\u001b[39;00m) \u001b[39m-\u001b[39m\u001b[39m>\u001b[39m Tensor:\n\u001b[1;32m    <a href='file:///~/.local/lib/python3.9/site-packages/hflayers/__init__.py?line=223'>224</a>\u001b[0m     \u001b[39m\"\"\"\u001b[39;00m\n\u001b[1;32m    <a href='file:///~/.local/lib/python3.9/site-packages/hflayers/__init__.py?line=224'>225</a>\u001b[0m \u001b[39m    Apply Hopfield association on specified data.\u001b[39;00m\n\u001b[1;32m    <a href='file:///~/.local/lib/python3.9/site-packages/hflayers/__init__.py?line=225'>226</a>\u001b[0m \n\u001b[0;32m   (...)\u001b[0m\n\u001b[1;32m    <a href='file:///~/.local/lib/python3.9/site-packages/hflayers/__init__.py?line=229'>230</a>\u001b[0m \u001b[39m    :return: Hopfield-processed input data\u001b[39;00m\n\u001b[1;32m    <a href='file:///~/.local/lib/python3.9/site-packages/hflayers/__init__.py?line=230'>231</a>\u001b[0m \u001b[39m    \"\"\"\u001b[39;00m\n\u001b[0;32m--> <a href='file:///~/.local/lib/python3.9/site-packages/hflayers/__init__.py?line=231'>232</a>\u001b[0m     association_output \u001b[39m=\u001b[39m \u001b[39mself\u001b[39m\u001b[39m.\u001b[39m_maybe_transpose(\u001b[39mself\u001b[39;49m\u001b[39m.\u001b[39;49m_associate(\n\u001b[1;32m    <a href='file:///~/.local/lib/python3.9/site-packages/hflayers/__init__.py?line=232'>233</a>\u001b[0m         data\u001b[39m=\u001b[39;49m\u001b[39minput\u001b[39;49m, return_raw_associations\u001b[39m=\u001b[39;49m\u001b[39mFalse\u001b[39;49;00m,\n\u001b[1;32m    <a href='file:///~/.local/lib/python3.9/site-packages/hflayers/__init__.py?line=233'>234</a>\u001b[0m         stored_pattern_padding_mask\u001b[39m=\u001b[39;49mstored_pattern_padding_mask,\n\u001b[1;32m    <a href='file:///~/.local/lib/python3.9/site-packages/hflayers/__init__.py?line=234'>235</a>\u001b[0m         association_mask\u001b[39m=\u001b[39;49massociation_mask)[\u001b[39m0\u001b[39m])\n\u001b[1;32m    <a href='file:///~/.local/lib/python3.9/site-packages/hflayers/__init__.py?line=235'>236</a>\u001b[0m     \u001b[39mif\u001b[39;00m \u001b[39mself\u001b[39m\u001b[39m.\u001b[39massociation_activation \u001b[39mis\u001b[39;00m \u001b[39mnot\u001b[39;00m \u001b[39mNone\u001b[39;00m:\n\u001b[1;32m    <a href='file:///~/.local/lib/python3.9/site-packages/hflayers/__init__.py?line=236'>237</a>\u001b[0m         association_output \u001b[39m=\u001b[39m \u001b[39mself\u001b[39m\u001b[39m.\u001b[39massociation_activation(association_output)\n",
      "File \u001b[0;32m~/.local/lib/python3.9/site-packages/hflayers/__init__.py:187\u001b[0m, in \u001b[0;36mHopfield._associate\u001b[0;34m(self, data, return_raw_associations, return_projected_patterns, stored_pattern_padding_mask, association_mask)\u001b[0m\n\u001b[1;32m    <a href='file:///~/.local/lib/python3.9/site-packages/hflayers/__init__.py?line=172'>173</a>\u001b[0m \u001b[39mdef\u001b[39;00m \u001b[39m_associate\u001b[39m(\u001b[39mself\u001b[39m, data: Union[Tensor, Tuple[Tensor, Tensor, Tensor]],\n\u001b[1;32m    <a href='file:///~/.local/lib/python3.9/site-packages/hflayers/__init__.py?line=173'>174</a>\u001b[0m                return_raw_associations: \u001b[39mbool\u001b[39m \u001b[39m=\u001b[39m \u001b[39mFalse\u001b[39;00m, return_projected_patterns: \u001b[39mbool\u001b[39m \u001b[39m=\u001b[39m \u001b[39mFalse\u001b[39;00m,\n\u001b[1;32m    <a href='file:///~/.local/lib/python3.9/site-packages/hflayers/__init__.py?line=174'>175</a>\u001b[0m                stored_pattern_padding_mask: Optional[Tensor] \u001b[39m=\u001b[39m \u001b[39mNone\u001b[39;00m,\n\u001b[1;32m    <a href='file:///~/.local/lib/python3.9/site-packages/hflayers/__init__.py?line=175'>176</a>\u001b[0m                association_mask: Optional[Tensor] \u001b[39m=\u001b[39m \u001b[39mNone\u001b[39;00m) \u001b[39m-\u001b[39m\u001b[39m>\u001b[39m Tuple[Optional[Tensor], \u001b[39m.\u001b[39m\u001b[39m.\u001b[39m\u001b[39m.\u001b[39m]:\n\u001b[1;32m    <a href='file:///~/.local/lib/python3.9/site-packages/hflayers/__init__.py?line=176'>177</a>\u001b[0m     \u001b[39m\"\"\"\u001b[39;00m\n\u001b[1;32m    <a href='file:///~/.local/lib/python3.9/site-packages/hflayers/__init__.py?line=177'>178</a>\u001b[0m \u001b[39m    Apply Hopfield association module on specified data.\u001b[39;00m\n\u001b[1;32m    <a href='file:///~/.local/lib/python3.9/site-packages/hflayers/__init__.py?line=178'>179</a>\u001b[0m \n\u001b[0;32m   (...)\u001b[0m\n\u001b[1;32m    <a href='file:///~/.local/lib/python3.9/site-packages/hflayers/__init__.py?line=184'>185</a>\u001b[0m \u001b[39m    :return: Hopfield-processed input data\u001b[39;00m\n\u001b[1;32m    <a href='file:///~/.local/lib/python3.9/site-packages/hflayers/__init__.py?line=185'>186</a>\u001b[0m \u001b[39m    \"\"\"\u001b[39;00m\n\u001b[0;32m--> <a href='file:///~/.local/lib/python3.9/site-packages/hflayers/__init__.py?line=186'>187</a>\u001b[0m     \u001b[39massert\u001b[39;00m (\u001b[39mtype\u001b[39m(data) \u001b[39m==\u001b[39m Tensor) \u001b[39mor\u001b[39;00m ((\u001b[39mtype\u001b[39m(data) \u001b[39m==\u001b[39m \u001b[39mtuple\u001b[39m) \u001b[39mand\u001b[39;00m (\u001b[39mlen\u001b[39m(data) \u001b[39m==\u001b[39m \u001b[39m3\u001b[39m)), \\\n\u001b[1;32m    <a href='file:///~/.local/lib/python3.9/site-packages/hflayers/__init__.py?line=187'>188</a>\u001b[0m         \u001b[39mr\u001b[39m\u001b[39m'\u001b[39m\u001b[39meither one tensor to be used as \u001b[39m\u001b[39m\"\u001b[39m\u001b[39mstored pattern\u001b[39m\u001b[39m\"\u001b[39m\u001b[39m, \u001b[39m\u001b[39m\"\u001b[39m\u001b[39mstate pattern\u001b[39m\u001b[39m\"\u001b[39m\u001b[39m and\u001b[39m\u001b[39m'\u001b[39m \\\n\u001b[1;32m    <a href='file:///~/.local/lib/python3.9/site-packages/hflayers/__init__.py?line=188'>189</a>\u001b[0m         \u001b[39mr\u001b[39m\u001b[39m'\u001b[39m\u001b[39m \u001b[39m\u001b[39m\"\u001b[39m\u001b[39mpattern_projection\u001b[39m\u001b[39m\"\u001b[39m\u001b[39m must be provided, or three separate ones.\u001b[39m\u001b[39m'\u001b[39m\n\u001b[1;32m    <a href='file:///~/.local/lib/python3.9/site-packages/hflayers/__init__.py?line=189'>190</a>\u001b[0m     \u001b[39mif\u001b[39;00m \u001b[39mtype\u001b[39m(data) \u001b[39m==\u001b[39m Tensor:\n\u001b[1;32m    <a href='file:///~/.local/lib/python3.9/site-packages/hflayers/__init__.py?line=190'>191</a>\u001b[0m         stored_pattern, state_pattern, pattern_projection \u001b[39m=\u001b[39m data, data, data\n",
      "\u001b[0;31mAssertionError\u001b[0m: either one tensor to be used as \"stored pattern\", \"state pattern\" and \"pattern_projection\" must be provided, or three separate ones."
     ]
    }
   ],
   "source": [
    "losses, accuracies = aux.operate(\n",
    "    network=network,\n",
    "    optimiser=optimiser,\n",
    "    data_loader_train=tdata_loader,\n",
    "    data_loader_eval=vdata_loader,\n",
    "    num_epochs=500,\n",
    "    device=device)"
   ]
  }
 ],
 "metadata": {
  "interpreter": {
   "hash": "31f2aee4e71d21fbe5cf8b01ff0e069b9275f58929596ceb00d14d90e3e16cd6"
  },
  "kernelspec": {
   "display_name": "Python 3.9.9 64-bit",
   "language": "python",
   "name": "python3"
  },
  "language_info": {
   "codemirror_mode": {
    "name": "ipython",
    "version": 3
   },
   "file_extension": ".py",
   "mimetype": "text/x-python",
   "name": "python",
   "nbconvert_exporter": "python",
   "pygments_lexer": "ipython3",
   "version": "3.9.9"
  },
  "orig_nbformat": 4
 },
 "nbformat": 4,
 "nbformat_minor": 2
}
