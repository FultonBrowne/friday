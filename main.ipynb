{
 "cells": [
  {
   "cell_type": "markdown",
   "metadata": {},
   "source": [
    "# Friday\n",
    "Prototype 3, make the code a little more real"
   ]
  },
  {
   "cell_type": "code",
   "execution_count": null,
   "metadata": {},
   "outputs": [],
   "source": [
    "import torch\n",
    "from torch.optim import AdamW\n",
    "\n",
    "\n",
    "from datasets import load_dataset\n",
    "\n",
    "from friday.model import model, aux\n",
    "import friday.dataset as fd\n",
    "import friday.dataset.text as t\n",
    "from datasets import load_dataset\n",
    "from torch.utils.data import DataLoader, Dataset\n",
    "\n",
    "device = torch.device('cpu')"
   ]
  },
  {
   "cell_type": "markdown",
   "metadata": {},
   "source": [
    "## Load the test dataset\n",
    "Load the dataset, covert it to a FridayDataset, and create the DataLoader"
   ]
  },
  {
   "cell_type": "code",
   "execution_count": null,
   "metadata": {},
   "outputs": [],
   "source": [
    "dataset = load_dataset(\"wiki_hop\")"
   ]
  },
  {
   "cell_type": "code",
   "execution_count": null,
   "metadata": {},
   "outputs": [],
   "source": [
    "tdataset = dataset['train']\n",
    "vdataset = dataset['validation']"
   ]
  },
  {
   "cell_type": "code",
   "execution_count": null,
   "metadata": {},
   "outputs": [],
   "source": [
    "labels = ['question', 'answer']\n",
    "ftdatset = fd.FridayDataset.from_hf(input=tdataset, labels=labels) #, ifppt=t.text_dataset_bytetoken, ifppd=t.text_dataset_bytetoken)\n",
    "vtdatset = fd.FridayDataset.from_hf(input=vdataset, labels=labels)"
   ]
  },
  {
   "cell_type": "code",
   "execution_count": null,
   "metadata": {},
   "outputs": [],
   "source": [
    "tt = t.TextTools()\n",
    "tdata_loader = DataLoader(dataset=ftdatset, batch_size=32, collate_fn=tt.collate_tokenize)\n",
    "vdata_loader = DataLoader(dataset=vtdatset, batch_size=32, collate_fn=tt.collate_tokenize)\n",
    "for i in tdata_loader:\n",
    "    print(tt.tokenizer.decode(i[1].ids))"
   ]
  },
  {
   "cell_type": "markdown",
   "metadata": {},
   "source": [
    "Initialize the friday model"
   ]
  },
  {
   "cell_type": "code",
   "execution_count": null,
   "metadata": {},
   "outputs": [],
   "source": [
    "network = model.Friday(input_size = 8, num_instances = len(dataset))\n",
    "optimiser = AdamW(params=network.parameters(), lr=1e-3)"
   ]
  },
  {
   "cell_type": "code",
   "execution_count": null,
   "metadata": {},
   "outputs": [],
   "source": [
    "losses, accuracies = aux.operate(\n",
    "    network=network,\n",
    "    optimiser=optimiser,\n",
    "    data_loader_train=tdata_loader,\n",
    "    data_loader_eval=vdata_loader,\n",
    "    num_epochs=500,\n",
    "    device=device)"
   ]
  }
 ],
 "metadata": {
  "interpreter": {
   "hash": "31f2aee4e71d21fbe5cf8b01ff0e069b9275f58929596ceb00d14d90e3e16cd6"
  },
  "kernelspec": {
   "display_name": "Python 3.9.9 64-bit",
   "language": "python",
   "name": "python3"
  },
  "language_info": {
   "codemirror_mode": {
    "name": "ipython",
    "version": 3
   },
   "file_extension": ".py",
   "mimetype": "text/x-python",
   "name": "python",
   "nbconvert_exporter": "python",
   "pygments_lexer": "ipython3",
   "version": "3.9.9"
  },
  "orig_nbformat": 4
 },
 "nbformat": 4,
 "nbformat_minor": 2
}
